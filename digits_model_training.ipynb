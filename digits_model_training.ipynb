{
 "cells": [
  {
   "cell_type": "code",
   "execution_count": 46,
   "id": "c9a5460c",
   "metadata": {},
   "outputs": [],
   "source": [
    "import tensorflow as tf\n",
    "import numpy as np\n",
    "import matplotlib.pyplot as plt\n",
    "import os\n",
    "import cv2\n",
    "from sklearn.model_selection import train_test_split"
   ]
  },
  {
   "cell_type": "code",
   "execution_count": 48,
   "id": "b852bd89",
   "metadata": {},
   "outputs": [],
   "source": [
    "path = 'training_data/Digits'"
   ]
  },
  {
   "cell_type": "code",
   "execution_count": 49,
   "id": "7ff8e9f7",
   "metadata": {},
   "outputs": [],
   "source": [
    "#Get the data\n",
    "classes = 10 \n",
    "images = []\n",
    "labels = [] "
   ]
  },
  {
   "cell_type": "code",
   "execution_count": 52,
   "id": "f72e3a01",
   "metadata": {},
   "outputs": [],
   "source": [
    "for i in range(0, classes):\n",
    "    imgList = os.listdir(path+'/'+str(i))\n",
    "    for j in imgList:\n",
    "        currentImg = cv2.imread(path+'/'+str(i)+'/'+str(j))\n",
    "        currentImg = cv2.resize(currentImg, (28, 28))\n",
    "        images.append(currentImg)\n",
    "        labels.append(i)\n",
    "       "
   ]
  },
  {
   "cell_type": "code",
   "execution_count": 53,
   "id": "5ef89f3a",
   "metadata": {},
   "outputs": [
    {
     "name": "stdout",
     "output_type": "stream",
     "text": [
      "10160\n",
      "10160\n"
     ]
    }
   ],
   "source": [
    " \n",
    "print(len(images))\n",
    "print(len(labels))"
   ]
  },
  {
   "cell_type": "code",
   "execution_count": 54,
   "id": "02a6ca11",
   "metadata": {},
   "outputs": [
    {
     "name": "stdout",
     "output_type": "stream",
     "text": [
      "(10160, 28, 28, 3)\n",
      "(10160,)\n"
     ]
    }
   ],
   "source": [
    "images = np.array(images)\n",
    "labels = np.array(labels)\n",
    "print(images.shape)\n",
    "print(labels.shape)"
   ]
  },
  {
   "cell_type": "code",
   "execution_count": 56,
   "id": "83180e13",
   "metadata": {},
   "outputs": [
    {
     "data": {
      "text/plain": [
       "<matplotlib.image.AxesImage at 0x2044043c0d0>"
      ]
     },
     "execution_count": 56,
     "metadata": {},
     "output_type": "execute_result"
    },
    {
     "data": {
      "image/png": "[encoded data removed]",
      "text/plain": [
       "<Figure size 640x480 with 1 Axes>"
      ]
     },
     "metadata": {},
     "output_type": "display_data"
    }
   ],
   "source": [
    "plt.imshow(images[2000])"
   ]
  },
  {
   "cell_type": "code",
   "execution_count": 57,
   "id": "bd43b5ec",
   "metadata": {},
   "outputs": [],
   "source": [
    "#Split the data into Train, Test and Validation Sets"
   ]
  },
  {
   "cell_type": "code",
   "execution_count": 58,
   "id": "7b4f0365",
   "metadata": {},
   "outputs": [
    {
     "name": "stdout",
     "output_type": "stream",
     "text": [
      "(8128, 28, 28, 3)\n",
      "(2032, 28, 28, 3)\n"
     ]
    }
   ],
   "source": [
    "train_images, test_images, train_labels, test_labels = train_test_split(images, labels, test_size=0.2)\n",
    "print(train_images.shape)\n",
    "print(test_images.shape)"
   ]
  },
  {
   "cell_type": "code",
   "execution_count": 59,
   "id": "ef5fd841",
   "metadata": {},
   "outputs": [
    {
     "name": "stdout",
     "output_type": "stream",
     "text": [
      "(6502, 28, 28, 3)\n",
      "(1626, 28, 28, 3)\n"
     ]
    }
   ],
   "source": [
    "train_images,  val_images, train_labels, val_labels = train_test_split(train_images, train_labels, test_size=0.2)\n",
    "print(train_images.shape)\n",
    "print(val_images.shape)"
   ]
  },
  {
   "cell_type": "code",
   "execution_count": 60,
   "id": "79fefba4",
   "metadata": {},
   "outputs": [],
   "source": [
    "#Preprocessing the data"
   ]
  },
  {
   "cell_type": "code",
   "execution_count": 61,
   "id": "502b0c44",
   "metadata": {},
   "outputs": [],
   "source": [
    "def preProcess(img):\n",
    "    img=cv2.cvtColor(img,cv2.COLOR_BGR2GRAY)\n",
    "    img=cv2.equalizeHist(img)\n",
    "    x,img=cv2.threshold(img, 127, 255, cv2.THRESH_BINARY)\n",
    "    img=img/255\n",
    "    return img"
   ]
  },
  {
   "cell_type": "code",
   "execution_count": 62,
   "id": "8f3725ff",
   "metadata": {},
   "outputs": [
    {
     "name": "stdout",
     "output_type": "stream",
     "text": [
      "(6502, 28, 28)\n",
      "(2032, 28, 28)\n",
      "(1626, 28, 28)\n"
     ]
    }
   ],
   "source": [
    "train_images = np.array(list(map(preProcess, train_images)))\n",
    "test_images = np.array(list(map(preProcess, test_images)))\n",
    "val_images = np.array(list(map(preProcess, val_images)))\n",
    "print(train_images.shape)\n",
    "print(test_images.shape)\n",
    "print(val_images.shape)"
   ]
  },
  {
   "cell_type": "code",
   "execution_count": 63,
   "id": "daa0f1ea",
   "metadata": {},
   "outputs": [
    {
     "name": "stdout",
     "output_type": "stream",
     "text": [
      "(6502, 28, 28, 1)\n",
      "(2032, 28, 28, 1)\n",
      "(1626, 28, 28, 1)\n"
     ]
    }
   ],
   "source": [
    "train_images = train_images.reshape(train_images.shape[0], 28, 28, 1)\n",
    "test_images = test_images.reshape(test_images.shape[0], 28, 28, 1)\n",
    "val_images = val_images.reshape(val_images.shape[0], 28, 28, 1)\n",
    "print(train_images.shape)\n",
    "print(test_images.shape)\n",
    "print(val_images.shape)"
   ]
  },
  {
   "cell_type": "code",
   "execution_count": 64,
   "id": "02854444",
   "metadata": {},
   "outputs": [
    {
     "data": {
      "text/plain": [
       "<matplotlib.image.AxesImage at 0x2044a57a880>"
      ]
     },
     "execution_count": 64,
     "metadata": {},
     "output_type": "execute_result"
    },
    {
     "data": {
      "image/png": "[encoded data removed]",
      "text/plain": [
       "<Figure size 640x480 with 1 Axes>"
      ]
     },
     "metadata": {},
     "output_type": "display_data"
    }
   ],
   "source": [
    "plt.imshow(images[200])"
   ]
  },
  {
   "cell_type": "code",
   "execution_count": 65,
   "id": "d0bd0892",
   "metadata": {},
   "outputs": [],
   "source": [
    "#Defining Callback"
   ]
  },
  {
   "cell_type": "code",
   "execution_count": 66,
   "id": "3d5eeb3e",
   "metadata": {},
   "outputs": [],
   "source": [
    "class myCallback(tf.keras.callbacks.Callback):\n",
    "    def on_epoch_end(self, epoch, logs={}):\n",
    "        if(logs.get('val_accuracy')>0.995):\n",
    "            print(\"\\nReached 99.5% accuracy so cancelling training!\")\n",
    "            self.model.stop_training = True"
   ]
  },
  {
   "cell_type": "code",
   "execution_count": 67,
   "id": "8d04d52d",
   "metadata": {},
   "outputs": [],
   "source": [
    "#Creating CNN Model"
   ]
  },
  {
   "cell_type": "code",
   "execution_count": 68,
   "id": "86a66fc6",
   "metadata": {},
   "outputs": [],
   "source": [
    "model = tf.keras.models.Sequential([\n",
    "                                    tf.keras.layers.Conv2D(32, (3,3), input_shape=(28, 28, 1),  activation=\"relu\"),\n",
    "                                    tf.keras.layers.MaxPooling2D(2, 2),\n",
    "                                    tf.keras.layers.Dropout(0.5),\n",
    "                                    tf.keras.layers.Conv2D(64, (3,3),  activation=\"relu\"),\n",
    "                                    tf.keras.layers.MaxPooling2D(2, 2),\n",
    "                                    tf.keras.layers.Dropout(0.5),\n",
    "                                    tf.keras.layers.Conv2D(64, (3,3),  activation=\"relu\"),\n",
    "                                    tf.keras.layers.Flatten(),\n",
    "                                    tf.keras.layers.Dense(128, activation=\"relu\"),\n",
    "                                    tf.keras.layers.Dropout(0.5),\n",
    "                                    tf.keras.layers.Dense(10,activation=tf.nn.softmax)\n",
    "])"
   ]
  },
  {
   "cell_type": "code",
   "execution_count": 69,
   "id": "4c11a3a1",
   "metadata": {},
   "outputs": [
    {
     "name": "stdout",
     "output_type": "stream",
     "text": [
      "Model: \"sequential_1\"\n",
      "_________________________________________________________________\n",
      " Layer (type)                Output Shape              Param #   \n",
      "=================================================================\n",
      " conv2d_4 (Conv2D)           (None, 26, 26, 32)        320       \n",
      "                                                                 \n",
      " max_pooling2d_2 (MaxPooling  (None, 13, 13, 32)       0         \n",
      " 2D)                                                             \n",
      "                                                                 \n",
      " dropout_2 (Dropout)         (None, 13, 13, 32)        0         \n",
      "                                                                 \n",
      " conv2d_5 (Conv2D)           (None, 11, 11, 64)        18496     \n",
      "                                                                 \n",
      " max_pooling2d_3 (MaxPooling  (None, 5, 5, 64)         0         \n",
      " 2D)                                                             \n",
      "                                                                 \n",
      " dropout_3 (Dropout)         (None, 5, 5, 64)          0         \n",
      "                                                                 \n",
      " conv2d_6 (Conv2D)           (None, 3, 3, 64)          36928     \n",
      "                                                                 \n",
      " flatten_1 (Flatten)         (None, 576)               0         \n",
      "                                                                 \n",
      " dense_2 (Dense)             (None, 128)               73856     \n",
      "                                                                 \n",
      " dropout_4 (Dropout)         (None, 128)               0         \n",
      "                                                                 \n",
      " dense_3 (Dense)             (None, 10)                1290      \n",
      "                                                                 \n",
      "=================================================================\n",
      "Total params: 130,890\n",
      "Trainable params: 130,890\n",
      "Non-trainable params: 0\n",
      "_________________________________________________________________\n"
     ]
    }
   ],
   "source": [
    "model.compile(optimizer='adam', \n",
    "              loss='sparse_categorical_crossentropy', \n",
    "              metrics=['accuracy'])\n",
    "model.summary()"
   ]
  },
  {
   "cell_type": "code",
   "execution_count": 70,
   "id": "63ec99d9",
   "metadata": {},
   "outputs": [],
   "source": [
    "datagen = tf.keras.preprocessing.image.ImageDataGenerator(width_shift_range=0.1,\n",
    "                             height_shift_range=0.1,\n",
    "                             zoom_range=0.2,\n",
    "                             shear_range=0.1,\n",
    "                             rotation_range=10)"
   ]
  },
  {
   "cell_type": "code",
   "execution_count": 71,
   "id": "9d0f6301",
   "metadata": {},
   "outputs": [],
   "source": [
    "#Training the model"
   ]
  },
  {
   "cell_type": "code",
   "execution_count": 72,
   "id": "3f212a42",
   "metadata": {},
   "outputs": [
    {
     "name": "stdout",
     "output_type": "stream",
     "text": [
      "Epoch 1/30\n",
      "204/204 [==============================] - 4s 16ms/step - loss: 2.0495 - accuracy: 0.2379 - val_loss: 0.6940 - val_accuracy: 0.8825\n",
      "Epoch 2/30\n",
      "204/204 [==============================] - 3s 15ms/step - loss: 0.9645 - accuracy: 0.6632 - val_loss: 0.1922 - val_accuracy: 0.9434\n",
      "Epoch 3/30\n",
      "204/204 [==============================] - 3s 16ms/step - loss: 0.5611 - accuracy: 0.8182 - val_loss: 0.1107 - val_accuracy: 0.9686\n",
      "Epoch 4/30\n",
      "204/204 [==============================] - 3s 16ms/step - loss: 0.4031 - accuracy: 0.8713 - val_loss: 0.0728 - val_accuracy: 0.9803\n",
      "Epoch 5/30\n",
      "204/204 [==============================] - 3s 16ms/step - loss: 0.3510 - accuracy: 0.8894 - val_loss: 0.0596 - val_accuracy: 0.9865\n",
      "Epoch 6/30\n",
      "204/204 [==============================] - 3s 16ms/step - loss: 0.2841 - accuracy: 0.9090 - val_loss: 0.0532 - val_accuracy: 0.9834\n",
      "Epoch 7/30\n",
      "204/204 [==============================] - 3s 17ms/step - loss: 0.2531 - accuracy: 0.9222 - val_loss: 0.0423 - val_accuracy: 0.9852\n",
      "Epoch 8/30\n",
      "204/204 [==============================] - 3s 17ms/step - loss: 0.2434 - accuracy: 0.9231 - val_loss: 0.0364 - val_accuracy: 0.9889\n",
      "Epoch 9/30\n",
      "204/204 [==============================] - 4s 18ms/step - loss: 0.2115 - accuracy: 0.9340 - val_loss: 0.0345 - val_accuracy: 0.9908\n",
      "Epoch 10/30\n",
      "204/204 [==============================] - 4s 18ms/step - loss: 0.2095 - accuracy: 0.9351 - val_loss: 0.0466 - val_accuracy: 0.9883\n",
      "Epoch 11/30\n",
      "204/204 [==============================] - 4s 18ms/step - loss: 0.2016 - accuracy: 0.9374 - val_loss: 0.0363 - val_accuracy: 0.9883\n",
      "Epoch 12/30\n",
      "204/204 [==============================] - 4s 18ms/step - loss: 0.1821 - accuracy: 0.9423 - val_loss: 0.0317 - val_accuracy: 0.9895\n",
      "Epoch 13/30\n",
      "204/204 [==============================] - 4s 19ms/step - loss: 0.1708 - accuracy: 0.9459 - val_loss: 0.0260 - val_accuracy: 0.9926\n",
      "Epoch 14/30\n",
      "204/204 [==============================] - 4s 20ms/step - loss: 0.1572 - accuracy: 0.9499 - val_loss: 0.0270 - val_accuracy: 0.9920\n",
      "Epoch 15/30\n",
      "204/204 [==============================] - 4s 21ms/step - loss: 0.1471 - accuracy: 0.9540 - val_loss: 0.0241 - val_accuracy: 0.9938\n",
      "Epoch 16/30\n",
      "204/204 [==============================] - 4s 19ms/step - loss: 0.1446 - accuracy: 0.9557 - val_loss: 0.0216 - val_accuracy: 0.9945\n",
      "Epoch 17/30\n",
      "204/204 [==============================] - 4s 19ms/step - loss: 0.1421 - accuracy: 0.9583 - val_loss: 0.0219 - val_accuracy: 0.9932\n",
      "Epoch 18/30\n",
      "204/204 [==============================] - 4s 20ms/step - loss: 0.1397 - accuracy: 0.9563 - val_loss: 0.0237 - val_accuracy: 0.9926\n",
      "Epoch 19/30\n",
      "204/204 [==============================] - 4s 19ms/step - loss: 0.1267 - accuracy: 0.9625 - val_loss: 0.0261 - val_accuracy: 0.9914\n",
      "Epoch 20/30\n",
      "204/204 [==============================] - ETA: 0s - loss: 0.1300 - accuracy: 0.9585\n",
      "Reached 99.5% accuracy so cancelling training!\n",
      "204/204 [==============================] - 4s 20ms/step - loss: 0.1300 - accuracy: 0.9585 - val_loss: 0.0186 - val_accuracy: 0.9969\n"
     ]
    }
   ],
   "source": [
    "callbacks = myCallback()\n",
    "history = model.fit(datagen.flow(train_images, train_labels),\n",
    "                              epochs = 30, validation_data = (val_images, val_labels), callbacks = [callbacks])"
   ]
  },
  {
   "cell_type": "code",
   "execution_count": 74,
   "id": "240a7b7b",
   "metadata": {},
   "outputs": [],
   "source": [
    "#Plotting Graphs"
   ]
  },
  {
   "cell_type": "code",
   "execution_count": 75,
   "id": "2a9b1ead",
   "metadata": {},
   "outputs": [
    {
     "data": {
      "image/png": "[encoded data removed]",
      "text/plain": [
       "<Figure size 640x480 with 1 Axes>"
      ]
     },
     "metadata": {},
     "output_type": "display_data"
    },
    {
     "data": {
      "image/png": "[encoded data removed]",
      "text/plain": [
       "<Figure size 640x480 with 1 Axes>"
      ]
     },
     "metadata": {},
     "output_type": "display_data"
    }
   ],
   "source": [
    "plt.figure(1)\n",
    "plt.plot(history.history['loss'])\n",
    "plt.plot(history.history['val_loss'])\n",
    "plt.legend(['Training','Validation'])\n",
    "plt.title('Loss')\n",
    "plt.xlabel('epoch')\n",
    "plt.figure(2)\n",
    "plt.plot(history.history['accuracy'])\n",
    "plt.plot(history.history['val_accuracy'])\n",
    "plt.legend(['Training','Validation'])\n",
    "plt.title('Accuracy')\n",
    "plt.xlabel('epoch')\n",
    "plt.show()"
   ]
  },
  {
   "cell_type": "code",
   "execution_count": 76,
   "id": "756ce724",
   "metadata": {},
   "outputs": [
    {
     "name": "stdout",
     "output_type": "stream",
     "text": [
      "64/64 [==============================] - 0s 4ms/step - loss: 0.0203 - accuracy: 0.9936\n",
      "Test Score :  0.02028033323585987\n",
      "Test Accuracy :  0.9936023354530334\n"
     ]
    }
   ],
   "source": [
    "score = model.evaluate(test_images, test_labels, verbose=1)\n",
    "print('Test Score : ', score[0])\n",
    "print('Test Accuracy : ', score[1])"
   ]
  },
  {
   "cell_type": "code",
   "execution_count": 77,
   "id": "84e4a379",
   "metadata": {},
   "outputs": [
    {
     "name": "stderr",
     "output_type": "stream",
     "text": [
      "WARNING:absl:Found untraced functions such as _jit_compiled_convolution_op, _jit_compiled_convolution_op, _jit_compiled_convolution_op, _update_step_xla while saving (showing 4 of 4). These functions will not be directly callable after loading.\n"
     ]
    },
    {
     "name": "stdout",
     "output_type": "stream",
     "text": [
      "INFO:tensorflow:Assets written to: digit\\assets\n"
     ]
    },
    {
     "name": "stderr",
     "output_type": "stream",
     "text": [
      "INFO:tensorflow:Assets written to: digit\\assets\n"
     ]
    }
   ],
   "source": [
    "model.save('digit')\n",
    "model.save(\"digit.h5\")"
   ]
  },
  {
   "cell_type": "code",
   "execution_count": null,
   "id": "10ea1dc5",
   "metadata": {},
   "outputs": [],
   "source": []
  }
 ],
 "metadata": {
  "kernelspec": {
   "display_name": "Python 3 (ipykernel)",
   "language": "python",
   "name": "python3"
  },
  "language_info": {
   "codemirror_mode": {
    "name": "ipython",
    "version": 3
   },
   "file_extension": ".py",
   "mimetype": "text/x-python",
   "name": "python",
   "nbconvert_exporter": "python",
   "pygments_lexer": "ipython3",
   "version": "3.9.7"
  }
 },
 "nbformat": 4,
 "nbformat_minor": 5
}
